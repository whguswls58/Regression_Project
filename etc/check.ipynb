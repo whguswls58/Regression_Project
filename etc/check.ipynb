# 작업 환경 설정
import matplotlib.dates as md
import pandas as pd
import numpy as np
import math
import datetime
import seaborn as sns
import missingno as msno
import matplotlib.pyplot as plt
import matplotlib.image as mpimg

import statsmodels.api as sm
from statsmodels.stats.outliers_influence import variance_inflation_factor
from sklearn.preprocessing import RobustScaler
from sklearn.decomposition import PCA

from matplotlib import rc

plt.style.use('seaborn')
rc('font', family='NanumGothic')
plt.rcParams['axes.unicode_minus'] = False
